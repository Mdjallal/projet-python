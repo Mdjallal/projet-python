{
 "cells": [
  {
   "cell_type": "code",
   "execution_count": 1,
   "metadata": {},
   "outputs": [],
   "source": [
    "from math import sqrt"
   ]
  },
  {
   "cell_type": "markdown",
   "metadata": {},
   "source": [
    "l'approche utilisée consiste à éliminer tous les éléments de l'interval ayant un facteur premier qui ne se repete pas sur tous l'interval"
   ]
  },
  {
   "cell_type": "code",
   "execution_count": 2,
   "metadata": {},
   "outputs": [],
   "source": [
    "def factorialise(n):\n",
    "    # retourne la liste des facteurs premier d'un entier n\n",
    "    i = 2\n",
    "    factors = []\n",
    "    \n",
    "    while i * i <= n:\n",
    "        if n % i:\n",
    "            i += 1\n",
    "        else:\n",
    "            n //= i\n",
    "            factors.append(i)\n",
    "    \n",
    "    if n > 1:\n",
    "        factors.append(n)\n",
    "    \n",
    "    return factors"
   ]
  },
  {
   "cell_type": "code",
   "execution_count": 3,
   "metadata": {},
   "outputs": [],
   "source": [
    "def clean(a, b):\n",
    "    # check tous les facteur premier de tous les nombres à la fois et élimine ceux qui ne se repete pas.\n",
    "    \n",
    "    fact  = ( factorialise(i) for i in range(a, b+1) )\n",
    "    merge = [ i for sub in fact for i in sub ] # fusionne les listes de facteur\n",
    "    \n",
    "    repeat  = set()\n",
    "    cleaned = []\n",
    "\n",
    "    # compte les occurences et retiens ceux qui n'occure qu'une fois\n",
    "    for i in set(merge):\n",
    "        if merge.count(i) == 1 :\n",
    "            repeat.add(i)\n",
    "    \n",
    "    # élimine tous les éléments contenant un facteur non repeté\n",
    "    for i in range(a, b+1) :\n",
    "        k = set( factorialise(i) )\n",
    "        \n",
    "        if len( k&repeat ) == 0 :\n",
    "            cleaned.append(i)\n",
    "\n",
    "    return cleaned"
   ]
  },
  {
   "cell_type": "code",
   "execution_count": 4,
   "metadata": {},
   "outputs": [],
   "source": [
    "def power_set(A):\n",
    "    # crée la power set (ensemble de tous les sous ensemble possible) de A\n",
    "\n",
    "    P = [set()]\n",
    "\n",
    "    for element in A:\n",
    "        e =  { element }\n",
    "        P += [ sub_set | e for sub_set in P ]\n",
    "\n",
    "    return P[1:] # élimine l'ensemble vide"
   ]
  },
  {
   "cell_type": "code",
   "execution_count": 5,
   "metadata": {},
   "outputs": [],
   "source": [
    "def C(a, b): # la fonction principal\n",
    "    \n",
    "    A = clean(a, b)\n",
    "    squares = 0\n",
    "\n",
    "    # calcule du produit de chauque sous ensemble i\n",
    "    for i in power_set( A ) :\n",
    "        \n",
    "        p = 1\n",
    "        for j in i :\n",
    "            p *= j\n",
    "\n",
    "        # si c'est un carré parfait on ajoute 1 au total\n",
    "        if not sqrt(p)%1 :\n",
    "            squares += 1\n",
    "\n",
    "    print( \"Nombre de carrés parfaits formés =\", squares )"
   ]
  },
  {
   "cell_type": "code",
   "execution_count": 6,
   "metadata": {},
   "outputs": [
    {
     "name": "stdout",
     "output_type": "stream",
     "text": [
      "Nombre de carrés parfaits formés = 15\n"
     ]
    }
   ],
   "source": [
    "C(40, 55)"
   ]
  }
 ],
 "metadata": {
  "kernelspec": {
   "display_name": "Python 3",
   "language": "python",
   "name": "python3"
  },
  "language_info": {
   "codemirror_mode": {
    "name": "ipython",
    "version": 3
   },
   "file_extension": ".py",
   "mimetype": "text/x-python",
   "name": "python",
   "nbconvert_exporter": "python",
   "pygments_lexer": "ipython3",
   "version": "3.6.4"
  }
 },
 "nbformat": 4,
 "nbformat_minor": 2
}
