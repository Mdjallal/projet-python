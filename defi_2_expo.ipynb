{
 "cells": [
  {
   "cell_type": "markdown",
   "metadata": {},
   "source": [
    "L'algorithme utilisé est celui de Sliding Window."
   ]
  },
  {
   "cell_type": "code",
   "execution_count": 1,
   "metadata": {},
   "outputs": [],
   "source": [
    "from math import log"
   ]
  },
  {
   "cell_type": "code",
   "execution_count": 2,
   "metadata": {},
   "outputs": [],
   "source": [
    "def minProd(k):# fonction qui contient seulement la main loop\n",
    "    \n",
    "    Total = 0  # initialisation\n",
    "    for i in range(2, k+1):\n",
    "        partial = float('inf')\n",
    "        \n",
    "        for j in range(1, int(log(i,2))+1 ):\n",
    "            w = window(i, j)\n",
    "            if w < partial :\n",
    "                partial = w # chaine minimale\n",
    "\n",
    "        Total += partial\n",
    "\n",
    "    print( \"Somme de la longueur des chaines d'exponentiations =\", Total )"
   ]
  },
  {
   "cell_type": "code",
   "execution_count": 3,
   "metadata": {},
   "outputs": [],
   "source": [
    "def window(a, k):\n",
    "    \n",
    "    # conversion en base 2\n",
    "    b = bin(a)[2:]\n",
    "    b = b[::-1]\n",
    "    L = len(b)-1\n",
    "    \n",
    "    # precalculation, puissances impaires uniquements\n",
    "    pre_compute = {1:2, 2:4}\n",
    "    for i in range(1, 2**(k-1) ) :\n",
    "        pre_compute[2*i+1] = pre_compute[2*i-1]*pre_compute[2]\n",
    "    \n",
    "    mul = len(pre_compute) - 1 # nombre de multiplication utilisé jusqu'ici\n",
    "    indx_utile, X, i = 1, 1, L\n",
    "\n",
    "    # lecture des digits de gauche X droite\n",
    "    while i >= 0 :\n",
    "        if b[i] == '0':\n",
    "            # mise au carré\n",
    "            X = X**2\n",
    "            mul, i = mul+1, i-1 \n",
    "\n",
    "        else :\n",
    "            f = []\n",
    "            for j in range(k) :\n",
    "                h = max(i-j,0)\n",
    "                f.append( (b[h:i+1], h) ) if b[ h ] == '1' else None\n",
    "            \n",
    "            # sequence de longeur maximale est retenu\n",
    "            seq, l = sorted(f, key=lambda x: -len(x[0]) )[0]\n",
    "            seq = int( seq[::-1], 2 )\n",
    "\n",
    "            # mise au carré\n",
    "            for _ in range(i-l+1):\n",
    "                X = X**2\n",
    "            mul = mul + (i-l+1) if X > 1 else mul\n",
    "            \n",
    "            X = X*pre_compute[ seq ]\n",
    "\n",
    "            if indx_utile < pre_compute[ seq ] :\n",
    "                indx_utile = pre_compute[ seq ]\n",
    "            \n",
    "            # evite une étape ou l'un des termes est 1\n",
    "            mul = mul + 1 if X > pre_compute[ seq ]  else mul\n",
    "            i = l-1\n",
    "    \n",
    "    # on retire les précalcules non utilisé\n",
    "    mul = mul - sum( i > indx_utile for i in pre_compute.values() )\n",
    "    return mul"
   ]
  },
  {
   "cell_type": "code",
   "execution_count": 4,
   "metadata": {},
   "outputs": [
    {
     "name": "stdout",
     "output_type": "stream",
     "text": [
      "Somme de la longueur des chaines d'exponentiations = 1603\n"
     ]
    }
   ],
   "source": [
    "minProd(200)"
   ]
  }
 ],
 "metadata": {
  "kernelspec": {
   "display_name": "Python 3",
   "language": "python",
   "name": "python3"
  },
  "language_info": {
   "codemirror_mode": {
    "name": "ipython",
    "version": 3
   },
   "file_extension": ".py",
   "mimetype": "text/x-python",
   "name": "python",
   "nbconvert_exporter": "python",
   "pygments_lexer": "ipython3",
   "version": "3.6.4"
  }
 },
 "nbformat": 4,
 "nbformat_minor": 2
}
